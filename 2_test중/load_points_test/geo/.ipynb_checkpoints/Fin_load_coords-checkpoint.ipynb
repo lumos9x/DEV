{
 "cells": [
  {
   "cell_type": "code",
   "execution_count": null,
   "metadata": {},
   "outputs": [],
   "source": [
    "#!pip install pyproj\n",
    "#!pip install pyshp"
   ]
  },
  {
   "cell_type": "code",
   "execution_count": null,
   "metadata": {},
   "outputs": [],
   "source": [
    "import json\n",
    "from pyproj import Proj, transform\n",
    "import googlemaps\n",
    "import folium\n",
    "import shapefile #pyshp module\n",
    "import pandas as pd\n",
    "\n",
    "inProj = Proj(init = 'epsg:5179 ') \n",
    "outProj= Proj(init = 'epsg:4326') #wgs84"
   ]
  },
  {
   "cell_type": "code",
   "execution_count": null,
   "metadata": {},
   "outputs": [
    {
     "data": {
      "text/plain": [
       "1845"
      ]
     },
     "execution_count": 4,
     "metadata": {},
     "output_type": "execute_result"
    }
   ],
   "source": [
    "shape = shapefile.Reader(\"TL_SPRD_MANAGE.shp\", encoding = \"euc-kr\")\n",
    "# feature = shape.shapeRecords()[0]\n",
    "# first = feature.shape.__geo_interface__  \n",
    "# len(shape)\n",
    "\n",
    "fields_node = [x[0] for x in shape.fields][1:]     #필드 데이터\n",
    "records_node = shape.records()                     #데이터\n",
    "load_points  = [s.points for s in shape.shapes()]  #좌표 데이터\n",
    "\n",
    "len(records_node) #1845\n",
    "len(load_points) #1845"
   ]
  },
  {
   "cell_type": "markdown",
   "metadata": {},
   "source": [
    "## 좌표정보 합치기"
   ]
  },
  {
   "cell_type": "code",
   "execution_count": null,
   "metadata": {},
   "outputs": [],
   "source": [
    "coords = []\n",
    "\n",
    "for i in range( 0, len(load_points)) :\n",
    "    a = load_points[i]\n",
    "    b = list(map(lambda x: transform(inProj,outProj,x[0],x[1]), a))\n",
    "    coords.append(b)\n",
    "    \n",
    "coords"
   ]
  },
  {
   "cell_type": "code",
   "execution_count": null,
   "metadata": {},
   "outputs": [],
   "source": [
    "record_df = pd.DataFrame(columns = fields_node, data = records_node )\n",
    "record_df['COORDS'] = coords\n",
    "record_df.head(5)"
   ]
  },
  {
   "cell_type": "markdown",
   "metadata": {},
   "source": [
    "## 좌표 분리 (하나씩 꺼내기)"
   ]
  },
  {
   "cell_type": "code",
   "execution_count": null,
   "metadata": {},
   "outputs": [],
   "source": [
    "#원하는 지역만 선정하기\n",
    "df = record_df[(record_df.RBP_CN.str.contains('역삼동')) | (record_df.REP_CN.str.contains('역삼동')) ]\n",
    "df = df.reset_index(drop=True)\n",
    "df.head(10)\n",
    "\n",
    "tmp = df.loc[6, ['SIG_CD', 'RDS_MAN_NO', 'RN', 'RN_CD', 'ROAD_BT', 'ROAD_LT' , 'COORDS']]\n",
    "tmp\n",
    "len(tmp)\n",
    "tmp.COORDS[3]"
   ]
  },
  {
   "cell_type": "code",
   "execution_count": null,
   "metadata": {
    "scrolled": true
   },
   "outputs": [],
   "source": [
    "all_coords = pd.DataFrame(columns = ['SIG_CD', 'RDS_MAN_NO', 'RN', 'RN_CD', 'ROAD_BT', 'ROAD_LT' , 'LAT', 'LNG'])\n",
    "tmp = pd.DataFrame(columns =['SIG_CD', 'RDS_MAN_NO', 'RN', 'RN_CD' , 'RN_CD2', 'ROAD_BT', 'ROAD_LT' , 'COORDS'])                                                       \n",
    "    \n",
    "for i in range( 0, len(df)):\n",
    "    tmp = df.loc[i, ['SIG_CD', 'RDS_MAN_NO', 'RN', 'RN_CD', 'ROAD_BT', 'ROAD_LT' , 'COORDS']]\n",
    "    for j in range(0, len(tmp.COORDS)) :\n",
    "        all_coords = all_coords.append(all_coords.from_dict({'SIG_CD' : tmp.SIG_CD ,'RDS_MAN_NO':tmp.RDS_MAN_NO\n",
    "                                                             , 'RN': tmp.RN, 'RN_CD' : tmp.RN_CD, 'RN_CD2' : str(tmp.RN_CD) + \"_\" + str(j) \n",
    "                                                             , 'ROAD_BT':tmp.ROAD_BT, 'ROAD_LT' : tmp.ROAD_LT\n",
    "                                                             , 'LAT': tmp.COORDS[j][1], 'LNG' : tmp.COORDS[j][0]\n",
    "                                                            } , orient = 'index').T)\n"
   ]
  },
  {
   "cell_type": "code",
   "execution_count": null,
   "metadata": {
    "scrolled": true
   },
   "outputs": [],
   "source": [
    "all_coords = all_coords.reset_index()\n",
    "all_coords #2036개"
   ]
  },
  {
   "cell_type": "code",
   "execution_count": null,
   "metadata": {},
   "outputs": [],
   "source": [
    "a = [ all_coords['LAT'], all_coords['LNG']]\n",
    "len(a)"
   ]
  },
  {
   "cell_type": "code",
   "execution_count": null,
   "metadata": {},
   "outputs": [],
   "source": []
  },
  {
   "cell_type": "code",
   "execution_count": null,
   "metadata": {},
   "outputs": [],
   "source": []
  },
  {
   "cell_type": "code",
   "execution_count": null,
   "metadata": {},
   "outputs": [],
   "source": [
    "a = [ all_coords['LAT'], all_coords['LNG']]\n",
    "cols = []\n",
    "to_map1 = folium.Map(location= [a[0],a[1]]  , zoom_start=12)\n",
    "\n",
    "all_coords = pd.DataFrame(columns = [ 'lat','lng' ] )\n",
    "a = df['COORDS']\n",
    "for i in range(0, len(a) ) :\n",
    "    for j in range(0, len(a)) :\n",
    "        \n",
    "      folium.CircleMarker([a[i][0], a[i][1]], radius = 3).add_to(to_map1)        \n",
    "to_map1"
   ]
  },
  {
   "cell_type": "code",
   "execution_count": null,
   "metadata": {},
   "outputs": [],
   "source": [
    "record_df.to_csv(\"all_coords.csv\", mode='w', encoding='ms949') # edge(=link) list"
   ]
  },
  {
   "cell_type": "code",
   "execution_count": null,
   "metadata": {},
   "outputs": [],
   "source": []
  }
 ],
 "metadata": {
  "kernelspec": {
   "display_name": "Python 3",
   "language": "python",
   "name": "python3"
  }
 },
 "nbformat": 4,
 "nbformat_minor": 2
}
