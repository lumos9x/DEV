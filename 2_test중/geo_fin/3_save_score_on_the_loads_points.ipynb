{
 "cells": [
  {
   "cell_type": "code",
   "execution_count": 107,
   "metadata": {},
   "outputs": [],
   "source": [
    "import numpy as np\n",
    "import pandas as pd\n",
    "import folium\n",
    "from haversine import haversine"
   ]
  },
  {
   "cell_type": "markdown",
   "metadata": {},
   "source": [
    "### 만들어 둔 CSV 파일 불러오기"
   ]
  },
  {
   "cell_type": "code",
   "execution_count": 108,
   "metadata": {},
   "outputs": [
    {
     "name": "stdout",
     "output_type": "stream",
     "text": [
      "2090\n"
     ]
    }
   ],
   "source": [
    "total_df = pd.read_csv(\"total.csv\", encoding = 'ms949')\n",
    "total_df.drop('Unnamed: 0', axis=1, inplace=True)\n",
    "\n",
    "load_df = pd.read_csv(\"total_load_points.csv\", encoding = 'ms949')\n",
    "load_df.drop('Unnamed: 0', axis=1, inplace=True)\n",
    "load_df.head(5)\n",
    "\n",
    "total_df.head(5)\n",
    "print(len(total_df)) #2090\n"
   ]
  },
  {
   "cell_type": "markdown",
   "metadata": {},
   "source": [
    "### 중복데이터 제거"
   ]
  },
  {
   "cell_type": "code",
   "execution_count": 113,
   "metadata": {},
   "outputs": [
    {
     "name": "stdout",
     "output_type": "stream",
     "text": [
      "1722\n"
     ]
    },
    {
     "data": {
      "text/html": [
       "<div>\n",
       "<style scoped>\n",
       "    .dataframe tbody tr th:only-of-type {\n",
       "        vertical-align: middle;\n",
       "    }\n",
       "\n",
       "    .dataframe tbody tr th {\n",
       "        vertical-align: top;\n",
       "    }\n",
       "\n",
       "    .dataframe thead th {\n",
       "        text-align: right;\n",
       "    }\n",
       "</style>\n",
       "<table border=\"1\" class=\"dataframe\">\n",
       "  <thead>\n",
       "    <tr style=\"text-align: right;\">\n",
       "      <th></th>\n",
       "      <th>분류</th>\n",
       "      <th>명칭</th>\n",
       "      <th>위도</th>\n",
       "      <th>경도</th>\n",
       "    </tr>\n",
       "  </thead>\n",
       "  <tbody>\n",
       "    <tr>\n",
       "      <th>0</th>\n",
       "      <td>보안등</td>\n",
       "      <td>역삼1동833</td>\n",
       "      <td>37.493349</td>\n",
       "      <td>127.032033</td>\n",
       "    </tr>\n",
       "    <tr>\n",
       "      <th>1</th>\n",
       "      <td>보안등</td>\n",
       "      <td>역삼1동832-25</td>\n",
       "      <td>37.492834</td>\n",
       "      <td>127.031413</td>\n",
       "    </tr>\n",
       "    <tr>\n",
       "      <th>2</th>\n",
       "      <td>보안등</td>\n",
       "      <td>역삼1동832-27</td>\n",
       "      <td>37.492632</td>\n",
       "      <td>127.031508</td>\n",
       "    </tr>\n",
       "    <tr>\n",
       "      <th>3</th>\n",
       "      <td>보안등</td>\n",
       "      <td>역삼1동832-28</td>\n",
       "      <td>37.492480</td>\n",
       "      <td>127.031581</td>\n",
       "    </tr>\n",
       "  </tbody>\n",
       "</table>\n",
       "</div>"
      ],
      "text/plain": [
       "    분류          명칭         위도          경도\n",
       "0  보안등     역삼1동833  37.493349  127.032033\n",
       "1  보안등  역삼1동832-25  37.492834  127.031413\n",
       "2  보안등  역삼1동832-27  37.492632  127.031508\n",
       "3  보안등  역삼1동832-28  37.492480  127.031581"
      ]
     },
     "execution_count": 113,
     "metadata": {},
     "output_type": "execute_result"
    }
   ],
   "source": [
    "\n",
    "#a = total_df.groupby('명칭')['명칭'].count().sort_values(ascending = False)\n",
    "#b = total_df.join(a, on='명칭', rsuffix='_r')\n",
    "\n",
    "total_df = total_df.drop_duplicates(keep = 'first')\n",
    "total_df.reset_index(drop=True, inplace = True)\n",
    "print(len(total_df)) #1722\n",
    "total_df.head(4)"
   ]
  },
  {
   "cell_type": "markdown",
   "metadata": {},
   "source": [
    "### 모든 데이터들을 담을 데이터 프레임을 만든다.\n",
    "\n",
    "밝기 = 각 시설물의 점수      EX) 파출소 = 5점, 보안등 = 4점, 편의점 = 3점, cctv = 2점\n",
    "총밝기 = '기준 시설물의 점수' + '주변 시설물의 점수'"
   ]
  },
  {
   "cell_type": "code",
   "execution_count": 114,
   "metadata": {},
   "outputs": [
    {
     "data": {
      "text/html": [
       "<div>\n",
       "<style scoped>\n",
       "    .dataframe tbody tr th:only-of-type {\n",
       "        vertical-align: middle;\n",
       "    }\n",
       "\n",
       "    .dataframe tbody tr th {\n",
       "        vertical-align: top;\n",
       "    }\n",
       "\n",
       "    .dataframe thead th {\n",
       "        text-align: right;\n",
       "    }\n",
       "</style>\n",
       "<table border=\"1\" class=\"dataframe\">\n",
       "  <thead>\n",
       "    <tr style=\"text-align: right;\">\n",
       "      <th></th>\n",
       "      <th>feature_ID</th>\n",
       "      <th>밝기</th>\n",
       "      <th>분류</th>\n",
       "      <th>명칭</th>\n",
       "      <th>위도</th>\n",
       "      <th>경도</th>\n",
       "    </tr>\n",
       "  </thead>\n",
       "  <tbody>\n",
       "    <tr>\n",
       "      <th>0</th>\n",
       "      <td>Point_0</td>\n",
       "      <td>20</td>\n",
       "      <td>보안등</td>\n",
       "      <td>역삼1동833</td>\n",
       "      <td>37.4933</td>\n",
       "      <td>127.032</td>\n",
       "    </tr>\n",
       "    <tr>\n",
       "      <th>1</th>\n",
       "      <td>Point_1</td>\n",
       "      <td>20</td>\n",
       "      <td>보안등</td>\n",
       "      <td>역삼1동832-25</td>\n",
       "      <td>37.4928</td>\n",
       "      <td>127.031</td>\n",
       "    </tr>\n",
       "    <tr>\n",
       "      <th>2</th>\n",
       "      <td>Point_2</td>\n",
       "      <td>20</td>\n",
       "      <td>보안등</td>\n",
       "      <td>역삼1동832-27</td>\n",
       "      <td>37.4926</td>\n",
       "      <td>127.032</td>\n",
       "    </tr>\n",
       "  </tbody>\n",
       "</table>\n",
       "</div>"
      ],
      "text/plain": [
       "  feature_ID  밝기   분류          명칭       위도       경도\n",
       "0    Point_0  20  보안등     역삼1동833  37.4933  127.032\n",
       "1    Point_1  20  보안등  역삼1동832-25  37.4928  127.031\n",
       "2    Point_2  20  보안등  역삼1동832-27  37.4926  127.032"
      ]
     },
     "execution_count": 114,
     "metadata": {},
     "output_type": "execute_result"
    }
   ],
   "source": [
    "all_df = pd.DataFrame(columns=['feature_ID', '밝기', '분류', '명칭', '위도', '경도'])\n",
    "\n",
    "### 시설물에 밝기 점수 주기\n",
    "for i in range(len(total_df)) :\n",
    "    score = 0 \n",
    "    if total_df['분류'][i] == '파출소' :\n",
    "        score += 50\n",
    "    elif total_df['분류'][i] == '보안등' :    \n",
    "        score += 20\n",
    "    elif total_df['분류'][i] == '편의점' :    \n",
    "        score += 15\n",
    "    else :    \n",
    "        score += 15\n",
    "        \n",
    "    tmp = {'feature_ID' : 'Point_%d' % i, \n",
    "           '밝기' : score, \n",
    "           '분류' :total_df.loc[i,'분류'], '명칭' : total_df.loc[i,'명칭'], \n",
    "           '위도' : total_df.loc[i,'위도'], '경도' : total_df.loc[i,'경도'] \n",
    "           } \n",
    "    all_df = all_df.append(all_df.from_dict(tmp, orient = 'index').T)\n",
    "\n",
    "all_df.reset_index(inplace=True,drop=True)\n",
    "all_df.head(3)"
   ]
  },
  {
   "cell_type": "code",
   "execution_count": 116,
   "metadata": {},
   "outputs": [],
   "source": [
    "#엄청느림\n",
    "# 총밝기 구하기    \n",
    "scores = []\n",
    "for i in range(len(load_df)) :\n",
    "    score = 0\n",
    "    s_point = (load_df.loc[i,'위도'], load_df.loc[i,'경도']) # 시작점\n",
    "    for n in range(len(all_df)) :\n",
    "        t_point = (all_df.loc[n,'위도'], all_df.loc[n,'경도']) # 타겟\n",
    "        d_m = haversine(s_point, t_point, unit='m') #  시작점과 타겟의 거리  단위 미터\n",
    "        # 반경 50M 를 범위로 잡음\n",
    "        if d_m <= 50 :\n",
    "            score += all_df.loc[n, '밝기']\n",
    "    # print(i, score) # 잘나옴\n",
    "    scores.append(score)"
   ]
  },
  {
   "cell_type": "code",
   "execution_count": 106,
   "metadata": {},
   "outputs": [
    {
     "ename": "PermissionError",
     "evalue": "[Errno 13] Permission denied: 'load_df_with_light.csv'",
     "output_type": "error",
     "traceback": [
      "\u001b[1;31m---------------------------------------------------------------------------\u001b[0m",
      "\u001b[1;31mPermissionError\u001b[0m                           Traceback (most recent call last)",
      "\u001b[1;32m<ipython-input-106-aa64ae0d5ee5>\u001b[0m in \u001b[0;36m<module>\u001b[1;34m\u001b[0m\n\u001b[0;32m      1\u001b[0m \u001b[1;31m# DataFrame 을 csv 파일로 저장하기\u001b[0m\u001b[1;33m\u001b[0m\u001b[1;33m\u001b[0m\u001b[1;33m\u001b[0m\u001b[0m\n\u001b[1;32m----> 2\u001b[1;33m \u001b[0mload_df\u001b[0m\u001b[1;33m.\u001b[0m\u001b[0mto_csv\u001b[0m\u001b[1;33m(\u001b[0m\u001b[1;34m\"load_df_with_light.csv\"\u001b[0m\u001b[1;33m,\u001b[0m \u001b[0mmode\u001b[0m\u001b[1;33m=\u001b[0m\u001b[1;34m'w'\u001b[0m\u001b[1;33m,\u001b[0m \u001b[0mencoding\u001b[0m\u001b[1;33m=\u001b[0m\u001b[1;34m'ms949'\u001b[0m\u001b[1;33m)\u001b[0m   \u001b[1;31m# encoding 을 안 하면 한글이 깨짐\u001b[0m\u001b[1;33m\u001b[0m\u001b[1;33m\u001b[0m\u001b[0m\n\u001b[0m",
      "\u001b[1;32m~\\Anaconda3\\lib\\site-packages\\pandas\\core\\generic.py\u001b[0m in \u001b[0;36mto_csv\u001b[1;34m(self, path_or_buf, sep, na_rep, float_format, columns, header, index, index_label, mode, encoding, compression, quoting, quotechar, line_terminator, chunksize, tupleize_cols, date_format, doublequote, escapechar, decimal)\u001b[0m\n\u001b[0;32m   3018\u001b[0m                                  \u001b[0mdoublequote\u001b[0m\u001b[1;33m=\u001b[0m\u001b[0mdoublequote\u001b[0m\u001b[1;33m,\u001b[0m\u001b[1;33m\u001b[0m\u001b[1;33m\u001b[0m\u001b[0m\n\u001b[0;32m   3019\u001b[0m                                  escapechar=escapechar, decimal=decimal)\n\u001b[1;32m-> 3020\u001b[1;33m         \u001b[0mformatter\u001b[0m\u001b[1;33m.\u001b[0m\u001b[0msave\u001b[0m\u001b[1;33m(\u001b[0m\u001b[1;33m)\u001b[0m\u001b[1;33m\u001b[0m\u001b[1;33m\u001b[0m\u001b[0m\n\u001b[0m\u001b[0;32m   3021\u001b[0m \u001b[1;33m\u001b[0m\u001b[0m\n\u001b[0;32m   3022\u001b[0m         \u001b[1;32mif\u001b[0m \u001b[0mpath_or_buf\u001b[0m \u001b[1;32mis\u001b[0m \u001b[1;32mNone\u001b[0m\u001b[1;33m:\u001b[0m\u001b[1;33m\u001b[0m\u001b[1;33m\u001b[0m\u001b[0m\n",
      "\u001b[1;32m~\\Anaconda3\\lib\\site-packages\\pandas\\io\\formats\\csvs.py\u001b[0m in \u001b[0;36msave\u001b[1;34m(self)\u001b[0m\n\u001b[0;32m    155\u001b[0m             f, handles = _get_handle(self.path_or_buf, self.mode,\n\u001b[0;32m    156\u001b[0m                                      \u001b[0mencoding\u001b[0m\u001b[1;33m=\u001b[0m\u001b[0mself\u001b[0m\u001b[1;33m.\u001b[0m\u001b[0mencoding\u001b[0m\u001b[1;33m,\u001b[0m\u001b[1;33m\u001b[0m\u001b[1;33m\u001b[0m\u001b[0m\n\u001b[1;32m--> 157\u001b[1;33m                                      compression=self.compression)\n\u001b[0m\u001b[0;32m    158\u001b[0m             \u001b[0mclose\u001b[0m \u001b[1;33m=\u001b[0m \u001b[1;32mTrue\u001b[0m\u001b[1;33m\u001b[0m\u001b[1;33m\u001b[0m\u001b[0m\n\u001b[0;32m    159\u001b[0m \u001b[1;33m\u001b[0m\u001b[0m\n",
      "\u001b[1;32m~\\Anaconda3\\lib\\site-packages\\pandas\\io\\common.py\u001b[0m in \u001b[0;36m_get_handle\u001b[1;34m(path_or_buf, mode, encoding, compression, memory_map, is_text)\u001b[0m\n\u001b[0;32m    422\u001b[0m         \u001b[1;32melif\u001b[0m \u001b[0mencoding\u001b[0m\u001b[1;33m:\u001b[0m\u001b[1;33m\u001b[0m\u001b[1;33m\u001b[0m\u001b[0m\n\u001b[0;32m    423\u001b[0m             \u001b[1;31m# Python 3 and encoding\u001b[0m\u001b[1;33m\u001b[0m\u001b[1;33m\u001b[0m\u001b[1;33m\u001b[0m\u001b[0m\n\u001b[1;32m--> 424\u001b[1;33m             \u001b[0mf\u001b[0m \u001b[1;33m=\u001b[0m \u001b[0mopen\u001b[0m\u001b[1;33m(\u001b[0m\u001b[0mpath_or_buf\u001b[0m\u001b[1;33m,\u001b[0m \u001b[0mmode\u001b[0m\u001b[1;33m,\u001b[0m \u001b[0mencoding\u001b[0m\u001b[1;33m=\u001b[0m\u001b[0mencoding\u001b[0m\u001b[1;33m,\u001b[0m \u001b[0mnewline\u001b[0m\u001b[1;33m=\u001b[0m\u001b[1;34m\"\"\u001b[0m\u001b[1;33m)\u001b[0m\u001b[1;33m\u001b[0m\u001b[1;33m\u001b[0m\u001b[0m\n\u001b[0m\u001b[0;32m    425\u001b[0m         \u001b[1;32melif\u001b[0m \u001b[0mis_text\u001b[0m\u001b[1;33m:\u001b[0m\u001b[1;33m\u001b[0m\u001b[1;33m\u001b[0m\u001b[0m\n\u001b[0;32m    426\u001b[0m             \u001b[1;31m# Python 3 and no explicit encoding\u001b[0m\u001b[1;33m\u001b[0m\u001b[1;33m\u001b[0m\u001b[1;33m\u001b[0m\u001b[0m\n",
      "\u001b[1;31mPermissionError\u001b[0m: [Errno 13] Permission denied: 'load_df_with_light.csv'"
     ]
    }
   ],
   "source": [
    "# DataFrame 을 csv 파일로 저장하기\n",
    "load_df.to_csv(\"load_df_with_light.csv\", mode='w', encoding='ms949')   # encoding 을 안 하면 한글이 깨짐"
   ]
  }
 ],
 "metadata": {
  "kernelspec": {
   "display_name": "Python 3",
   "language": "python",
   "name": "python3"
  },
  "language_info": {
   "codemirror_mode": {
    "name": "ipython",
    "version": 3
   },
   "file_extension": ".py",
   "mimetype": "text/x-python",
   "name": "python",
   "nbconvert_exporter": "python",
   "pygments_lexer": "ipython3",
   "version": "3.7.3"
  }
 },
 "nbformat": 4,
 "nbformat_minor": 2
}
