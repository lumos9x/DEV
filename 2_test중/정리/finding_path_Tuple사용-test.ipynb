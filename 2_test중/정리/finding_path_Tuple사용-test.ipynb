{
 "cells": [
  {
   "cell_type": "code",
   "execution_count": 87,
   "metadata": {},
   "outputs": [
    {
     "name": "stderr",
     "output_type": "stream",
     "text": [
      "C:\\ProgramData\\Anaconda3\\lib\\site-packages\\pandas\\core\\frame.py:6211: FutureWarning: Sorting because non-concatenation axis is not aligned. A future version\n",
      "of pandas will change to not sort by default.\n",
      "\n",
      "To accept the future behavior, pass 'sort=False'.\n",
      "\n",
      "To retain the current behavior and silence the warning, pass 'sort=True'.\n",
      "\n",
      "  sort=sort)\n"
     ]
    },
    {
     "data": {
      "text/html": [
       "<div>\n",
       "<style scoped>\n",
       "    .dataframe tbody tr th:only-of-type {\n",
       "        vertical-align: middle;\n",
       "    }\n",
       "\n",
       "    .dataframe tbody tr th {\n",
       "        vertical-align: top;\n",
       "    }\n",
       "\n",
       "    .dataframe thead th {\n",
       "        text-align: right;\n",
       "    }\n",
       "</style>\n",
       "<table border=\"1\" class=\"dataframe\">\n",
       "  <thead>\n",
       "    <tr style=\"text-align: right;\">\n",
       "      <th></th>\n",
       "      <th>ID</th>\n",
       "      <th>point_ID</th>\n",
       "      <th>경도</th>\n",
       "      <th>명칭</th>\n",
       "      <th>밝기</th>\n",
       "      <th>분류</th>\n",
       "      <th>위도</th>\n",
       "      <th>총밝기</th>\n",
       "    </tr>\n",
       "  </thead>\n",
       "  <tbody>\n",
       "    <tr>\n",
       "      <th>1444</th>\n",
       "      <td>1444</td>\n",
       "      <td>Point_2087</td>\n",
       "      <td>127.043</td>\n",
       "      <td>역삼동 700-13</td>\n",
       "      <td>25</td>\n",
       "      <td>CCTV</td>\n",
       "      <td>37.505</td>\n",
       "      <td>70</td>\n",
       "    </tr>\n",
       "    <tr>\n",
       "      <th>1445</th>\n",
       "      <td>1445</td>\n",
       "      <td>Point_2088</td>\n",
       "      <td>127.037</td>\n",
       "      <td>역삼동 652-5</td>\n",
       "      <td>25</td>\n",
       "      <td>CCTV</td>\n",
       "      <td>37.5082</td>\n",
       "      <td>50</td>\n",
       "    </tr>\n",
       "    <tr>\n",
       "      <th>1446</th>\n",
       "      <td>1446</td>\n",
       "      <td>Point_2089</td>\n",
       "      <td>127.034</td>\n",
       "      <td>역삼동 735-18</td>\n",
       "      <td>25</td>\n",
       "      <td>CCTV</td>\n",
       "      <td>37.4979</td>\n",
       "      <td>110</td>\n",
       "    </tr>\n",
       "    <tr>\n",
       "      <th>1447</th>\n",
       "      <td>1447</td>\n",
       "      <td>Point_EP</td>\n",
       "      <td>127.044</td>\n",
       "      <td>도착지</td>\n",
       "      <td>999</td>\n",
       "      <td>도착지</td>\n",
       "      <td>37.5091</td>\n",
       "      <td>999</td>\n",
       "    </tr>\n",
       "  </tbody>\n",
       "</table>\n",
       "</div>"
      ],
      "text/plain": [
       "        ID    point_ID       경도          명칭   밝기    분류       위도  총밝기\n",
       "1444  1444  Point_2087  127.043  역삼동 700-13   25  CCTV   37.505   70\n",
       "1445  1445  Point_2088  127.037   역삼동 652-5   25  CCTV  37.5082   50\n",
       "1446  1446  Point_2089  127.034  역삼동 735-18   25  CCTV  37.4979  110\n",
       "1447  1447    Point_EP  127.044         도착지  999   도착지  37.5091  999"
      ]
     },
     "execution_count": 87,
     "metadata": {},
     "output_type": "execute_result"
    }
   ],
   "source": [
    "import googlemaps\n",
    "import folium\n",
    "import pandas as pd\n",
    "import numpy as np\n",
    "import heapq\n",
    "from haversine import haversine #거리구하기\n",
    "from sklearn.preprocessing import minmax_scale #정규화\n",
    "\n",
    "##1. data 불러오기\n",
    "total_df = pd.read_csv(\"../all_df.csv\", encoding = \"EUC-KR\" )\n",
    "df = total_df.rename(index=str, columns={\"Unnamed: 0\" : \"ID\"})\n",
    "df = df.drop(columns = ['경유여부','거리'])\n",
    "\n",
    "##2. 출발지, 도착지\n",
    "sp = (37.506059, 127.036863) #출발지 37.506059, 127.036863\n",
    "ep = (37.509122, 127.043816) #도착지 37.509122, 127.043816\n",
    "radius = 100\n",
    "#4.중복값 제거\n",
    "df = df.join( df.groupby(\"명칭\")[\"ID\"].count(), on = '명칭', rsuffix = '_cnt')\n",
    "df = df[~(df.ID_cnt > 1)].sort_values(by = 'ID')\n",
    "df = df.drop(columns = ['ID_cnt'])\n",
    "\n",
    "#밝기 max\n",
    "l_max = df['총밝기'].max()\n",
    "\n",
    "# 3.table에 SP, EP정보 저장\n",
    "df = df.append(df.from_dict({'ID' : -1,'point_ID':'Point_SP', '위도':sp[0], '경도':sp[1], '밝기':-1\n",
    "                             , '분류':'출발지', '명칭':'출발지', '총밝기' : -1 }, orient = 'index').T)\n",
    "\n",
    "df = df.append(df.from_dict({'ID' : len(total_df), 'point_ID':'Point_EP', '위도':ep[0], '경도':ep[1], '밝기': 999\n",
    "                             , '분류':'도착지', '명칭':'도착지', '총밝기' : 999 }, orient = 'index').T)\n",
    "\n",
    "\n",
    "\n",
    "df = df.sort_values(by='ID').reset_index(drop=True)\n",
    "df1 = df\n",
    "df1['ID'] = df1.index\n",
    "df1.tail(4)\n"
   ]
  },
  {
   "cell_type": "markdown",
   "metadata": {},
   "source": [
    "# 길찾기 구현 시작 (A* 알고리즘)\n",
    "> 참고 사이트 : https://codeday.me/ko/qa/20190421/370160.html\n",
    "### 1. 초기화"
   ]
  },
  {
   "cell_type": "code",
   "execution_count": 12,
   "metadata": {},
   "outputs": [],
   "source": [
    "\n"
   ]
  },
  {
   "cell_type": "code",
   "execution_count": 83,
   "metadata": {},
   "outputs": [
    {
     "name": "stdout",
     "output_type": "stream",
     "text": [
      "<class 'dict'> 1448\n"
     ]
    }
   ],
   "source": [
    "#!pip install geopy\n",
    "import csv, geopy.distance, collections, heapq\n",
    "##name\n",
    "Location = collections.namedtuple(\"Location\", \"ID point_ID 분류 명칭 위도 경도 밝기 총밝기\".split())\n",
    "data = {}\n",
    "\n",
    "for i in range(0,len(df1)):\n",
    "        data[i] = Location(  df1.loc[i,\"ID\"]\n",
    "                           , df1.loc[i,\"point_ID\"]\n",
    "                           , df1.loc[i,\"분류\"]\n",
    "                           , df1.loc[i,\"명칭\"]\n",
    "                           , df1.loc[i,\"위도\"]\n",
    "                           , df1.loc[i,\"경도\"]\n",
    "                           , df1.loc[i,\"밝기\"]\n",
    "                           , df1.loc[i,\"총밝기\"])\n",
    "        \n",
    "print( type(data) , len(data))\n",
    "#sorted(data.values(), key=lambda x: calcH(0,len(data)-1))[0:4]\n",
    "\n",
    "startIndex = 0                                                   #출발지\n",
    "endIndex =len(data) - 1                                         #도착지\n",
    "center_index = 0\n",
    "h = calcH(startIndex, endIndex)                                    #도착지까지의 총거리\n",
    "g = 0\n",
    "f = h\n",
    "#heap으로 하면 좋겠지만, sclaedF 를 구하기 위해 dataFrame으로 \n",
    "openlist = pd.DataFrame(columns = \"ID F G H L parentID\".split() )\n",
    "openlist.loc[0] = [int(startIndex), h, 0, h, 0 , None]                #openlist 초기화\n",
    "\n",
    "closedlist = {}      # map visited nodes to parent #LinkedList\n",
    "\n"
   ]
  },
  {
   "cell_type": "code",
   "execution_count": 84,
   "metadata": {},
   "outputs": [
    {
     "name": "stdout",
     "output_type": "stream",
     "text": [
      "ID            0.000000\n",
      "F           701.535109\n",
      "G             0.000000\n",
      "H           701.535109\n",
      "L             0.000000\n",
      "W             0.000000\n",
      "parentID           NaN\n",
      "Name: 0, dtype: float64 \n",
      "  ID            0.000000\n",
      "F           701.535109\n",
      "G             0.000000\n",
      "H           701.535109\n",
      "L             0.000000\n",
      "W             0.000000\n",
      "parentID           NaN\n",
      "Name: 0, dtype: float64 10\n"
     ]
    }
   ],
   "source": [
    "import copy\n",
    "#heap으로 하면 좋겠지만, sclaedF 를 구하기 위해 dataFrame으로 \n",
    "openlist = pd.DataFrame(columns = \"ID F G H L W parentID\".split() )\n",
    "openlist.loc[0] = [startIndex, h, 0, h, 0 ,0, None] \n",
    "\n",
    "items = getneighbors(center_node.ID)\n",
    "item = openlist.loc[0]\n",
    "\n",
    "center_node = item\n",
    "print(center_node , \"\\n \", item, len(items))\n"
   ]
  },
  {
   "cell_type": "code",
   "execution_count": 85,
   "metadata": {},
   "outputs": [],
   "source": [
    "#거리 구하기\n",
    "def calcH(start_index, end_index):\n",
    "    distance = haversine([data[start_index].위도, data[start_index].경도] , [data[end_index].위도, data[end_index].경도] ,  unit='m') \n",
    "    return distance\n",
    "\n",
    "def get_f(center_node, item ):\n",
    "    g = center_node.G + calcH(center_node.ID, item.ID)\n",
    "    h = calcH(item.ID, endIndex)\n",
    "    f = g + h   \n",
    "    #sf = get_scaled_f(item,f,g,h)\n",
    "    return f\n",
    "\n",
    "def get_scaled_f(item, f, g, h):\n",
    "    openlist_tmp =copy.deepcopy(openlist)\n",
    "    openlist_tmp = openlist\n",
    "    g = center_node.G + calcH(center_node.ID, item.ID)\n",
    "    h = calcH(item.ID, endIndex)\n",
    "    f = g + h   \n",
    "\n",
    "#3. 밝기 이용한 가중치 추가 W(weight = 4F(거리) + 6L(밝기))\n",
    "def get_w(df) : \n",
    "    w = np.array(df.apply(lambda x : (x['총밝기'] * 45 ) + ( x['scaled_F'] * 100) , axis = 1)).reshape(-1,1)\n",
    "    w = minmax_scale(w, copy=True, feature_range =(0,l_max))\n",
    "    return w\n",
    "\n",
    "\n",
    "#주변 점들 구하기\n",
    "def getneighbors(center_index, n=10):\n",
    "    rad = radius\n",
    "#     while True :\n",
    "#         res = df [ df.apply( lambda x : haversine(point, [x['위도'], x['경도']] ,  unit='m') , axis = 1  ) < rad ]\n",
    "#         res = res[ ~res['point_ID'].isin(closed_list_id) ] # 1-2 . 이미 선택했던 point들 제외   \n",
    "#         if (len(res) == 0  ) : \n",
    "#             rad += 10\n",
    "#         else : \n",
    "#             break\n",
    "    \n",
    "    while True:\n",
    "        res = data.values(), key=lambda x: calcH(center_index, x.ID)\n",
    "        if len(res) ==0 :\n",
    "            \n",
    "        sorted(data.values(), key=lambda x: calcH(center_index, x.ID))[1:n+1]\n",
    "    \n",
    "    \n",
    "    ##data로 출력\n",
    "    return sorted(data.values(), key=lambda x: calcH(center_index, x.ID))[1:n+1]\n",
    "\n",
    "#경로 추출하기\n",
    "def getParent(closedlist, index):\n",
    "    path = []\n",
    "    while index is not None:\n",
    "        path.append(index)\n",
    "        index = closedlist.get(index, None)\n",
    "    return [data[i] for i in path[::-1]]"
   ]
  },
  {
   "cell_type": "code",
   "execution_count": 86,
   "metadata": {},
   "outputs": [
    {
     "data": {
      "text/plain": [
       "714.0372119237594"
      ]
     },
     "execution_count": 86,
     "metadata": {},
     "output_type": "execute_result"
    }
   ],
   "source": [
    "#get_f(center_node, item)\n",
    "items = getneighbors(center_index, n=10)\n",
    "item = items[0]\n",
    "get_f(center_node, item)\n"
   ]
  },
  {
   "cell_type": "code",
   "execution_count": 75,
   "metadata": {},
   "outputs": [
    {
     "ename": "IndentationError",
     "evalue": "unexpected indent (<ipython-input-75-0998ca965c6a>, line 4)",
     "output_type": "error",
     "traceback": [
      "\u001b[1;36m  File \u001b[1;32m\"<ipython-input-75-0998ca965c6a>\"\u001b[1;36m, line \u001b[1;32m4\u001b[0m\n\u001b[1;33m    openlist.sort_values(by=\"W\")\u001b[0m\n\u001b[1;37m    ^\u001b[0m\n\u001b[1;31mIndentationError\u001b[0m\u001b[1;31m:\u001b[0m unexpected indent\n"
     ]
    }
   ],
   "source": [
    "fin = []\n",
    "\n",
    "while len(openlist) >= 1:\n",
    "    # 우선순위큐 방식, 가장 점수높은 후보 꺼내서 중심점으로 만들기\n",
    "    openlist.sort_values(by=\"W\")\n",
    "    center_node = openlist.loc[0]\n",
    "    center_ID = int(center_node.ID)\n",
    "\n",
    "    # 이미 방문한 지점인지 검사\n",
    "     if center_ID in closedlist:\n",
    "         continue\n",
    "        \n",
    "    closedlist[center_ID] = center_node.parentID\n",
    "\n",
    "     # 만약 도착지라면 종료하고, 경로 추출하기\n",
    "    if center_ID == endIndex:\n",
    "         print(\"Complete\")\n",
    "        for p in getParent(closedlist, center_ID) :\n",
    "            fin.append(p)\n",
    "        break\n",
    "        \n",
    "    # 주변 점들을 구하고, 점들마다 예상 가중치를 쭉 구해온다.\n",
    "    items = getneighbors(center_ID)\n",
    "    \n",
    "    \n",
    "#     for item in items :\n",
    "#         f = get_f(center_node, item )\n",
    "        \n",
    "\n",
    "        \n",
    "        \n",
    "        #현재점을 거쳐서 도착지까지 g 계산\n",
    "#         for i in range(0, len(openlist)):\n",
    "#             ids.append(openlist[i][1].ID)\n",
    "#         if other.ID in ids\n",
    "\n",
    "        ####openList에 추가###\n",
    "        #새롭게 계산한 예상되는 F  < 이미 openlist에 있는 F  : 새롭게 예상한 아이가 더 좋은 경로 -> parentID 갱신\n",
    "        # but, 중복되게 들어가더라도 항상 가장 가능성 높은 아이가 자동으로 나오므로 굳이 갱신할 필요가없다.\n",
    "        #새롭게 계산한 예상되는 F  > 이미 openlist에 있는 F : 그대로 유지  \n",
    "\n"
   ]
  },
  {
   "cell_type": "code",
   "execution_count": 74,
   "metadata": {},
   "outputs": [
    {
     "data": {
      "text/plain": [
       "0.0"
      ]
     },
     "execution_count": 74,
     "metadata": {},
     "output_type": "execute_result"
    }
   ],
   "source": [
    "openlist\n",
    "\n",
    "    "
   ]
  },
  {
   "cell_type": "code",
   "execution_count": null,
   "metadata": {},
   "outputs": [],
   "source": []
  }
 ],
 "metadata": {
  "kernelspec": {
   "display_name": "Python 3",
   "language": "python",
   "name": "python3"
  },
  "language_info": {
   "codemirror_mode": {
    "name": "ipython",
    "version": 3
   },
   "file_extension": ".py",
   "mimetype": "text/x-python",
   "name": "python",
   "nbconvert_exporter": "python",
   "pygments_lexer": "ipython3",
   "version": "3.7.1"
  }
 },
 "nbformat": 4,
 "nbformat_minor": 2
}
