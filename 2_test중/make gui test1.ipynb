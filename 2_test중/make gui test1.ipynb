{
 "cells": [
  {
   "cell_type": "code",
   "execution_count": 1,
   "metadata": {},
   "outputs": [],
   "source": [
    "#!pip install pyqt5"
   ]
  },
  {
   "cell_type": "markdown",
   "metadata": {},
   "source": [
    "## 창 띄우기"
   ]
  },
  {
   "cell_type": "code",
   "execution_count": 1,
   "metadata": {},
   "outputs": [
    {
     "ename": "SystemExit",
     "evalue": "0",
     "output_type": "error",
     "traceback": [
      "An exception has occurred, use %tb to see the full traceback.\n",
      "\u001b[1;31mSystemExit\u001b[0m\u001b[1;31m:\u001b[0m 0\n"
     ]
    },
    {
     "name": "stderr",
     "output_type": "stream",
     "text": [
      "C:\\Python3\\lib\\site-packages\\IPython\\core\\interactiveshell.py:3275: UserWarning: To exit: use 'exit', 'quit', or Ctrl-D.\n",
      "  warn(\"To exit: use 'exit', 'quit', or Ctrl-D.\", stacklevel=1)\n"
     ]
    }
   ],
   "source": [
    "import sys\n",
    "\n",
    "# 기본적인 UI 구성요소를 제공하는 위젯(클래스)들은 PyQt5.QtWidgets 모듈에 포함\n",
    "from PyQt5.QtWidgets import QApplication, QWidget, QPushButton, QToolTip, QMainWindow, QAction, qApp, QDesktopWidget, QVBoxLayout, QLabel, QComboBox, QLineEdit, QTabWidget\n",
    "from PyQt5.QtGui import QIcon, QFont    # 아이콘 가져오기, 폰트\n",
    "from PyQt5.QtCore import QCoreApplication \n",
    "\n",
    "class MyApp(QMainWindow):\n",
    "\n",
    "    def __init__(self):      # self는 MyApp 객체\n",
    "        super().__init__()\n",
    "        self.initUI()\n",
    "\n",
    "    def initUI(self):\n",
    "        QToolTip.setFont(QFont('SansSerif', 10)) # 폰트 설정, 10px, sansSerif 폰트\n",
    "        self.setToolTip('This is a <b>Lumos</b>')\n",
    "        \n",
    "        self.setWindowTitle('Lumos')  # 타이틀\n",
    "        self.setWindowIcon(QIcon('street-lamp.png'))  # 아이콘으로 쓸 이미지 가져옴\n",
    "        self.setGeometry(300, 300, 700, 400) # 창의 위치와 크기를 설정\n",
    "                                             # 앞의 두 매개변수는 창의 x, y 위치를 결정\n",
    "                                             # 뒤의 두 매개변수는 각각 창의 너비와 높이를 결정\n",
    "                \n",
    "#         btn = QPushButton('Quit', self) # 첫 번째 파라미터에는 버튼에 표시될 텍스트를 입력\n",
    "#                                         # 두 번째 파라미터에는 버튼이 위치할 부모 위젯을 입력\n",
    "#         btn.setToolTip('This is a <b>Quit</b> widget')    \n",
    "#         btn.move(300, 350)\n",
    "#         btn.resize(btn.sizeHint())\n",
    "#         btn.clicked.connect(QCoreApplication.instance().quit)      \n",
    "        \n",
    "        btn1 = QPushButton('출발지', self)\n",
    "        btn1.move(0, 70)\n",
    "        btn1.resize(btn1.sizeHint())\n",
    "        \n",
    "        btn2 = QPushButton('도착지', self)\n",
    "        btn2.move(0, 95)\n",
    "        btn2.resize(btn2.sizeHint())\n",
    "        \n",
    "        saveAction = QAction(QIcon('save.png'), 'Save', self)\n",
    "        saveAction.setShortcut('Ctrl+S')\n",
    "        saveAction.setStatusTip('Save')       \n",
    "        \n",
    "        exitAction = QAction(QIcon('exit.png'), 'Exit', self)\n",
    "        exitAction.setShortcut('Ctrl+Q')  # 단축키 설정\n",
    "        exitAction.setStatusTip('Exit')\n",
    "        exitAction.triggered.connect(qApp.quit)\n",
    "        \n",
    "       \n",
    "        menubar = self.menuBar() # 메뉴바 생성\n",
    "        # 'File' 메뉴를 하나 만들고, 거기에 'exitAction' 동작을 추가\n",
    "        # '&File'의 앰퍼샌드(ampersand, &)는 간편하게 단축키를 설정하도록 해줍니다.\n",
    "        # 'F' 앞에 앰퍼샌드가 있으므로 'Alt+F'가 File 메뉴의 단축키가 됩니다.\n",
    "        menubar.setNativeMenuBar(False)\n",
    "        fileMenu = menubar.addMenu('&File')\n",
    "        fileMenu.addAction(saveAction)\n",
    "        fileMenu.addAction(exitAction)\n",
    "        \n",
    "        editMenu = menubar.addMenu('&Edit')\n",
    "        #editMenu.addAction(editMenu)\n",
    "        \n",
    "        self.toolbar = self.addToolBar('Exit')\n",
    "        self.toolbar.addAction(saveAction)\n",
    "        self.toolbar.addAction(exitAction)\n",
    "\n",
    "        \n",
    "        self.statusBar().showMessage('Ready')  # 상태바 만들기       \n",
    "        \n",
    "        self.center()  # 창을 화면의 가운데로 하는 일은 center() 메서드를 통해 수행 \n",
    "        \n",
    "        \n",
    "#         self.lbl = QLabel('Option1', self)\n",
    "#         self.lbl.move(300, 350)\n",
    "\n",
    "        # QComboBox 위젯을 하나 만들고, addItem() 메서드를 이용해서 선택 가능한 4개의 옵션들을 추가\n",
    "        cb = QComboBox(self)\n",
    "        cb.addItem('Option1')\n",
    "        cb.addItem('Option2')\n",
    "        cb.addItem('Option3')\n",
    "        cb.addItem('Option4')\n",
    "        cb.move(100, 70)\n",
    "        \n",
    "        \n",
    "#         cb.activated[str].connect(self.onActivated)\n",
    "#         # 옵션을 선택하면, onActivated() 메서드가 호출됩니다. \n",
    "        \n",
    "    \n",
    "#         self.lbl = QLabel(self)\n",
    "#         self.lbl.move(60, 40)\n",
    "        qle = QLineEdit(self) # QLineEdit 위젯 생성\n",
    "        qle.move(200, 70)\n",
    "#         qle.textChanged[str].connect(self.onChanged)\n",
    "#         # qle의 텍스트가 바뀌면, onChanged() 메서드를 호출합니다\n",
    "        \n",
    "\n",
    "        \n",
    "        \n",
    "        self.show()   # 위젯을 스크린에 보여줌\n",
    "        \n",
    "        \n",
    "    def center(self):\n",
    "\n",
    "        qr = self.frameGeometry()  # 창의 위치와 크기 정보를 가져옴\n",
    "        cp = QDesktopWidget().availableGeometry().center()  # 사용하는 모니터 화면의 가운데 위치를 파악 \n",
    "        qr.moveCenter(cp) # 창의 직사각형 위치를 화면의 중심의 위치로 이동 \n",
    "        self.move(qr.topLeft()) # 현재 창을, 화면의 중심으로 이동했던 직사각형(qr)의 위치로 이동\n",
    "                                # 결과적으로 현재 창의 중심이 화면의 중심과 일치하게 돼서 창이 가운데에 나타나게 된다.\n",
    "\n",
    "            \n",
    "#     def onActivated(self, text):\n",
    "\n",
    "#         self.lbl.setText(text)\n",
    "#         self.lbl.adjustSize()\n",
    "#     # 선택한 항목의 텍스트가 라벨에 나타나도록 하고, adjustSize() 메서드를 이용해서 라벨의 크기를 자동으로 조절하도록 함            \n",
    "\n",
    "\n",
    "#     def onChanged(self, text):\n",
    "\n",
    "#         self.lbl.setText(text)\n",
    "#         self.lbl.adjustSize()\n",
    "#         # onChanged() 메서드 안에서, 입력된 'text'를 라벨 위젯(lbl)의 텍스트로 설정하도록 함\n",
    "#         # 또한 adjustSize() 메서드로 텍스트의 길이에 따라 라벨의 길이를 조절해주도록 함 \n",
    "\n",
    "            \n",
    "if __name__ == '__main__':\n",
    "\n",
    "    app = QApplication(sys.argv)\n",
    "    ex = MyApp()\n",
    "    sys.exit(app.exec_())"
   ]
  },
  {
   "cell_type": "code",
   "execution_count": null,
   "metadata": {},
   "outputs": [],
   "source": []
  },
  {
   "cell_type": "code",
   "execution_count": null,
   "metadata": {},
   "outputs": [],
   "source": []
  },
  {
   "cell_type": "code",
   "execution_count": null,
   "metadata": {},
   "outputs": [],
   "source": []
  },
  {
   "cell_type": "code",
   "execution_count": null,
   "metadata": {},
   "outputs": [],
   "source": []
  },
  {
   "cell_type": "code",
   "execution_count": null,
   "metadata": {},
   "outputs": [],
   "source": []
  },
  {
   "cell_type": "code",
   "execution_count": null,
   "metadata": {},
   "outputs": [],
   "source": []
  },
  {
   "cell_type": "code",
   "execution_count": null,
   "metadata": {},
   "outputs": [],
   "source": []
  },
  {
   "cell_type": "code",
   "execution_count": null,
   "metadata": {},
   "outputs": [],
   "source": []
  },
  {
   "cell_type": "code",
   "execution_count": null,
   "metadata": {},
   "outputs": [],
   "source": []
  },
  {
   "cell_type": "code",
   "execution_count": null,
   "metadata": {},
   "outputs": [],
   "source": []
  }
 ],
 "metadata": {
  "kernelspec": {
   "display_name": "Python 3",
   "language": "python",
   "name": "python3"
  },
  "language_info": {
   "codemirror_mode": {
    "name": "ipython",
    "version": 3
   },
   "file_extension": ".py",
   "mimetype": "text/x-python",
   "name": "python",
   "nbconvert_exporter": "python",
   "pygments_lexer": "ipython3",
   "version": "3.7.1"
  }
 },
 "nbformat": 4,
 "nbformat_minor": 2
}
