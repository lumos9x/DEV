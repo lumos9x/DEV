{
 "cells": [
  {
   "cell_type": "code",
   "execution_count": 30,
   "metadata": {},
   "outputs": [],
   "source": [
    "import json\n",
    "from pyproj import Proj, transform\n",
    "import googlemaps\n",
    "import folium\n",
    "import pandas as pd"
   ]
  },
  {
   "cell_type": "code",
   "execution_count": 31,
   "metadata": {},
   "outputs": [
    {
     "data": {
      "text/html": [
       "<div>\n",
       "<style scoped>\n",
       "    .dataframe tbody tr th:only-of-type {\n",
       "        vertical-align: middle;\n",
       "    }\n",
       "\n",
       "    .dataframe tbody tr th {\n",
       "        vertical-align: top;\n",
       "    }\n",
       "\n",
       "    .dataframe thead th {\n",
       "        text-align: right;\n",
       "    }\n",
       "</style>\n",
       "<table border=\"1\" class=\"dataframe\">\n",
       "  <thead>\n",
       "    <tr style=\"text-align: right;\">\n",
       "      <th></th>\n",
       "      <th>분류</th>\n",
       "      <th>명칭</th>\n",
       "      <th>위도</th>\n",
       "      <th>경도</th>\n",
       "    </tr>\n",
       "  </thead>\n",
       "  <tbody>\n",
       "    <tr>\n",
       "      <th>0</th>\n",
       "      <td>보안등</td>\n",
       "      <td>역삼1동833</td>\n",
       "      <td>37.493349</td>\n",
       "      <td>127.032033</td>\n",
       "    </tr>\n",
       "    <tr>\n",
       "      <th>1</th>\n",
       "      <td>보안등</td>\n",
       "      <td>역삼1동833</td>\n",
       "      <td>37.493349</td>\n",
       "      <td>127.032033</td>\n",
       "    </tr>\n",
       "    <tr>\n",
       "      <th>2</th>\n",
       "      <td>보안등</td>\n",
       "      <td>역삼1동833</td>\n",
       "      <td>37.493349</td>\n",
       "      <td>127.032033</td>\n",
       "    </tr>\n",
       "    <tr>\n",
       "      <th>3</th>\n",
       "      <td>보안등</td>\n",
       "      <td>역삼1동833</td>\n",
       "      <td>37.493349</td>\n",
       "      <td>127.032033</td>\n",
       "    </tr>\n",
       "    <tr>\n",
       "      <th>4</th>\n",
       "      <td>보안등</td>\n",
       "      <td>역삼1동833</td>\n",
       "      <td>37.493349</td>\n",
       "      <td>127.032033</td>\n",
       "    </tr>\n",
       "  </tbody>\n",
       "</table>\n",
       "</div>"
      ],
      "text/plain": [
       "    분류       명칭         위도          경도\n",
       "0  보안등  역삼1동833  37.493349  127.032033\n",
       "1  보안등  역삼1동833  37.493349  127.032033\n",
       "2  보안등  역삼1동833  37.493349  127.032033\n",
       "3  보안등  역삼1동833  37.493349  127.032033\n",
       "4  보안등  역삼1동833  37.493349  127.032033"
      ]
     },
     "execution_count": 31,
     "metadata": {},
     "output_type": "execute_result"
    }
   ],
   "source": [
    "feature_df = pd.read_csv(\"./data/total.csv\", encoding = 'EUC-KR')\n",
    "light_df = feature_df[feature_df.분류 == '보안등']\n",
    "light_df = light_df.drop(columns = ['Unnamed: 0'])\n",
    "light_df.head(5)"
   ]
  },
  {
   "cell_type": "code",
   "execution_count": 32,
   "metadata": {},
   "outputs": [
    {
     "data": {
      "text/html": [
       "<div>\n",
       "<style scoped>\n",
       "    .dataframe tbody tr th:only-of-type {\n",
       "        vertical-align: middle;\n",
       "    }\n",
       "\n",
       "    .dataframe tbody tr th {\n",
       "        vertical-align: top;\n",
       "    }\n",
       "\n",
       "    .dataframe thead th {\n",
       "        text-align: right;\n",
       "    }\n",
       "</style>\n",
       "<table border=\"1\" class=\"dataframe\">\n",
       "  <thead>\n",
       "    <tr style=\"text-align: right;\">\n",
       "      <th></th>\n",
       "      <th>RN</th>\n",
       "      <th>LAT</th>\n",
       "      <th>LNG</th>\n",
       "      <th>분류</th>\n",
       "    </tr>\n",
       "  </thead>\n",
       "  <tbody>\n",
       "    <tr>\n",
       "      <th>0</th>\n",
       "      <td>역삼로</td>\n",
       "      <td>37.493030</td>\n",
       "      <td>127.029968</td>\n",
       "      <td>도로</td>\n",
       "    </tr>\n",
       "    <tr>\n",
       "      <th>1</th>\n",
       "      <td>역삼로</td>\n",
       "      <td>37.493107</td>\n",
       "      <td>127.030238</td>\n",
       "      <td>도로</td>\n",
       "    </tr>\n",
       "    <tr>\n",
       "      <th>2</th>\n",
       "      <td>역삼로</td>\n",
       "      <td>37.493325</td>\n",
       "      <td>127.030953</td>\n",
       "      <td>도로</td>\n",
       "    </tr>\n",
       "    <tr>\n",
       "      <th>3</th>\n",
       "      <td>역삼로</td>\n",
       "      <td>37.493571</td>\n",
       "      <td>127.031758</td>\n",
       "      <td>도로</td>\n",
       "    </tr>\n",
       "    <tr>\n",
       "      <th>4</th>\n",
       "      <td>역삼로</td>\n",
       "      <td>37.493818</td>\n",
       "      <td>127.032570</td>\n",
       "      <td>도로</td>\n",
       "    </tr>\n",
       "  </tbody>\n",
       "</table>\n",
       "</div>"
      ],
      "text/plain": [
       "    RN        LAT         LNG  분류\n",
       "0  역삼로  37.493030  127.029968  도로\n",
       "1  역삼로  37.493107  127.030238  도로\n",
       "2  역삼로  37.493325  127.030953  도로\n",
       "3  역삼로  37.493571  127.031758  도로\n",
       "4  역삼로  37.493818  127.032570  도로"
      ]
     },
     "execution_count": 32,
     "metadata": {},
     "output_type": "execute_result"
    }
   ],
   "source": [
    "load_df = pd.read_csv(\"1_3_COORDS_IN_YS.csv\", encoding = 'EUC-KR')\n",
    "load_df = load_df.drop(columns = ['Unnamed: 0'])\n",
    "load_df = load_df.loc[:, ['SIG_CD','RDS_MAN_NO','RDS_MAN_NO2', 'RN', 'RN_CD', 'LAT', 'LNG']]\n",
    "load_df['분류'] = '도로'\n",
    "load_df.head(3)\n",
    "#일단 저장\n",
    "save_load_df = load_df\n",
    "load_df =  load_df.loc[:, ['RN', 'LAT', 'LNG','분류']]\n",
    "load_df.head(5)"
   ]
  },
  {
   "cell_type": "code",
   "execution_count": 33,
   "metadata": {},
   "outputs": [],
   "source": [
    "#컬럼 이름 바꾸기 (concat준비)\n",
    "load_df.rename(index=str, columns={ \"RN\" : \"명칭\",\"LAT\"  : \"위도\", \"LNG\" : \"경도\" },inplace=True)\n",
    "load_df.reset_index(drop=True)\n",
    "save_load_df.to_csv(\"2_2_total_load_points.csv\", mode='w', encoding='ms949')"
   ]
  },
  {
   "cell_type": "code",
   "execution_count": 34,
   "metadata": {},
   "outputs": [
    {
     "name": "stderr",
     "output_type": "stream",
     "text": [
      "C:\\ProgramData\\Anaconda3\\lib\\site-packages\\ipykernel_launcher.py:1: FutureWarning: Sorting because non-concatenation axis is not aligned. A future version\n",
      "of pandas will change to not sort by default.\n",
      "\n",
      "To accept the future behavior, pass 'sort=False'.\n",
      "\n",
      "To retain the current behavior and silence the warning, pass 'sort=True'.\n",
      "\n",
      "  \"\"\"Entry point for launching an IPython kernel.\n"
     ]
    },
    {
     "data": {
      "text/html": [
       "<div>\n",
       "<style scoped>\n",
       "    .dataframe tbody tr th:only-of-type {\n",
       "        vertical-align: middle;\n",
       "    }\n",
       "\n",
       "    .dataframe tbody tr th {\n",
       "        vertical-align: top;\n",
       "    }\n",
       "\n",
       "    .dataframe thead th {\n",
       "        text-align: right;\n",
       "    }\n",
       "</style>\n",
       "<table border=\"1\" class=\"dataframe\">\n",
       "  <thead>\n",
       "    <tr style=\"text-align: right;\">\n",
       "      <th></th>\n",
       "      <th>경도</th>\n",
       "      <th>명칭</th>\n",
       "      <th>분류</th>\n",
       "      <th>위도</th>\n",
       "    </tr>\n",
       "  </thead>\n",
       "  <tbody>\n",
       "    <tr>\n",
       "      <th>0</th>\n",
       "      <td>127.029968</td>\n",
       "      <td>역삼로</td>\n",
       "      <td>도로</td>\n",
       "      <td>37.493030</td>\n",
       "    </tr>\n",
       "    <tr>\n",
       "      <th>1</th>\n",
       "      <td>127.030238</td>\n",
       "      <td>역삼로</td>\n",
       "      <td>도로</td>\n",
       "      <td>37.493107</td>\n",
       "    </tr>\n",
       "    <tr>\n",
       "      <th>2</th>\n",
       "      <td>127.030953</td>\n",
       "      <td>역삼로</td>\n",
       "      <td>도로</td>\n",
       "      <td>37.493325</td>\n",
       "    </tr>\n",
       "    <tr>\n",
       "      <th>3</th>\n",
       "      <td>127.031758</td>\n",
       "      <td>역삼로</td>\n",
       "      <td>도로</td>\n",
       "      <td>37.493571</td>\n",
       "    </tr>\n",
       "  </tbody>\n",
       "</table>\n",
       "</div>"
      ],
      "text/plain": [
       "           경도   명칭  분류         위도\n",
       "0  127.029968  역삼로  도로  37.493030\n",
       "1  127.030238  역삼로  도로  37.493107\n",
       "2  127.030953  역삼로  도로  37.493325\n",
       "3  127.031758  역삼로  도로  37.493571"
      ]
     },
     "execution_count": 34,
     "metadata": {},
     "output_type": "execute_result"
    }
   ],
   "source": [
    "total_load = pd.concat([load_df,light_df]).reset_index(drop=True)\n",
    "total_load.head(4)"
   ]
  },
  {
   "cell_type": "code",
   "execution_count": 35,
   "metadata": {},
   "outputs": [],
   "source": [
    "total_load.loc[:,['명칭','분류', '위도','경도' ]].to_csv(\"2_1_total_load_light_points.csv\", mode='w', encoding='ms949')"
   ]
  },
  {
   "cell_type": "code",
   "execution_count": null,
   "metadata": {},
   "outputs": [],
   "source": []
  },
  {
   "cell_type": "code",
   "execution_count": null,
   "metadata": {},
   "outputs": [],
   "source": []
  }
 ],
 "metadata": {
  "kernelspec": {
   "display_name": "Python 3",
   "language": "python",
   "name": "python3"
  },
  "language_info": {
   "codemirror_mode": {
    "name": "ipython",
    "version": 3
   },
   "file_extension": ".py",
   "mimetype": "text/x-python",
   "name": "python",
   "nbconvert_exporter": "python",
   "pygments_lexer": "ipython3",
   "version": "3.7.1"
  }
 },
 "nbformat": 4,
 "nbformat_minor": 2
}
