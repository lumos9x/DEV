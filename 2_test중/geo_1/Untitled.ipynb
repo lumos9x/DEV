{
 "cells": [
  {
   "cell_type": "code",
   "execution_count": null,
   "metadata": {},
   "outputs": [],
   "source": [
    "import shapefile\n",
    "shape = shapefile.Reader(\"my_shapefile.shp\")\n",
    "#first feature of the shapefile\n",
    "feature = shape.shapeRecords()[0]\n",
    "first = feature.shape.__geo_interface__  \n",
    "print first # (GeoJSON format)\n",
    "{'type': 'LineString', 'coordinates': ((0.0, 0.0), (25.0, 10.0), (50.0, 50.0))}"
   ]
  },
  {
   "cell_type": "code",
   "execution_count": null,
   "metadata": {},
   "outputs": [],
   "source": [
    "import shapefile"
   ]
  }
 ],
 "metadata": {
  "kernelspec": {
   "display_name": "Python 3",
   "language": "python",
   "name": "python3"
  }
 },
 "nbformat": 4,
 "nbformat_minor": 2
}
