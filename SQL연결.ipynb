{
 "cells": [
  {
   "cell_type": "code",
   "execution_count": 15,
   "metadata": {},
   "outputs": [
    {
     "name": "stdout",
     "output_type": "stream",
     "text": [
      "row = (Decimal('10'), '총무부', Decimal('100'))\n",
      "row = (Decimal('20'), '인사부', Decimal('200'))\n",
      "row = (Decimal('30'), '영업부', Decimal('300'))\n",
      "row = (Decimal('40'), '감사팀', Decimal('400'))\n",
      "row = (Decimal('50'), '전산팀', Decimal('500'))\n",
      "['총무부', '인사부', '영업부', '감사팀', '전산팀']\n",
      "[Decimal('10'), Decimal('20'), Decimal('30'), Decimal('40'), Decimal('50')]\n",
      "<class 'decimal.Decimal'>\n",
      "10\n",
      "30\n"
     ]
    }
   ],
   "source": [
    "import pyodbc \n",
    "cnxn = pyodbc.connect(\"Driver={SQL Server Native Client 11.0};\"\n",
    "                        \"Server=.;\"\n",
    "                        \"Database=Company2;\"\n",
    "                        \"uid=sa;pwd=Pa$$w0rd\")\n",
    "cursor = cnxn.cursor()\n",
    "names = []\n",
    "deptid = []\n",
    "cursor.execute('SELECT * FROM Dept')\n",
    "\n",
    "for row in cursor:\n",
    "    print('row = %r' % row)\n",
    "#    print(type(row))\n",
    "    names.append(row[1])\n",
    "    deptid.append(row[0])\n",
    "\n",
    "print(names)                #['총무부', '인사부', '영업부', '감사팀', '전산팀']\n",
    "print(deptid)               #[Decimal('10'), Decimal('20'), Decimal('30'), Decimal('40'), Decimal('50')]\n",
    "print(type(deptid[0]))      #<class 'decimal.Decimal'>\n",
    "print(deptid[0])            #10\n",
    "print(deptid[0]+deptid[1])  #30\n",
    "\n",
    "#names2 = [row[1] for row in cursor]\n",
    "#print(names)\n"
   ]
  },
  {
   "cell_type": "code",
   "execution_count": 18,
   "metadata": {},
   "outputs": [
    {
     "name": "stdout",
     "output_type": "stream",
     "text": [
      "(('dept_id', <class 'decimal.Decimal'>, None, 4, 4, 0, False), ('dept_name', <class 'str'>, None, 30, 30, 0, True), ('loc_id', <class 'decimal.Decimal'>, None, 4, 4, 0, True))\n"
     ]
    }
   ],
   "source": [
    "print(cursor.description) #column정보\n"
   ]
  },
  {
   "cell_type": "code",
   "execution_count": null,
   "metadata": {},
   "outputs": [],
   "source": []
  }
 ],
 "metadata": {
  "kernelspec": {
   "display_name": "Python 3",
   "language": "python",
   "name": "python3"
  },
  "language_info": {
   "codemirror_mode": {
    "name": "ipython",
    "version": 3
   },
   "file_extension": ".py",
   "mimetype": "text/x-python",
   "name": "python",
   "nbconvert_exporter": "python",
   "pygments_lexer": "ipython3",
   "version": "3.7.1"
  }
 },
 "nbformat": 4,
 "nbformat_minor": 2
}
